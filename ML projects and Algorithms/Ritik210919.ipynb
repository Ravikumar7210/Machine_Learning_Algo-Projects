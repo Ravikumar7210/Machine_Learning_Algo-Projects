{
 "cells": [
  {
   "cell_type": "code",
   "execution_count": 11,
   "metadata": {},
   "outputs": [
    {
     "name": "stdout",
     "output_type": "stream",
     "text": [
      "<class 'list'>\n"
     ]
    }
   ],
   "source": [
    "data=[\"php\",\"python\",\"ML\",\"c++\",\"c\",\"AI\",\"c++\"]\n",
    "print(type(data))"
   ]
  },
  {
   "cell_type": "code",
   "execution_count": 12,
   "metadata": {},
   "outputs": [],
   "source": [
    "#question2\n",
    "data.insert(3,\"RPA\")"
   ]
  },
  {
   "cell_type": "code",
   "execution_count": 13,
   "metadata": {},
   "outputs": [
    {
     "name": "stdout",
     "output_type": "stream",
     "text": [
      "['php', 'python', 'ML', 'RPA', 'c++', 'c', 'AI', 'c++']\n"
     ]
    }
   ],
   "source": [
    "print(data)"
   ]
  },
  {
   "cell_type": "code",
   "execution_count": 14,
   "metadata": {},
   "outputs": [
    {
     "name": "stdout",
     "output_type": "stream",
     "text": [
      "{'aman': 25, 'ravi': 30, 'teja': 56}\n",
      "{'ravi': 30, 'teja': 56}\n"
     ]
    }
   ],
   "source": [
    "dict={\"aman\":25,\"ravi\":30}\n",
    "dict[\"teja\"]=56\n",
    "print(dict)\n",
    "dict.pop(\"aman\")\n",
    "print(dict)"
   ]
  },
  {
   "cell_type": "code",
   "execution_count": 15,
   "metadata": {},
   "outputs": [
    {
     "name": "stdout",
     "output_type": "stream",
     "text": [
      "dict_keys(['ravi', 'teja'])\n",
      "dict_values([30, 56])\n"
     ]
    }
   ],
   "source": [
    "name=dict.keys()\n",
    "print(name)\n",
    "value=dict.values()\n",
    "print(value)"
   ]
  },
  {
   "cell_type": "code",
   "execution_count": 16,
   "metadata": {},
   "outputs": [
    {
     "data": {
      "text/plain": [
       "['ravi', 'teja']"
      ]
     },
     "execution_count": 16,
     "metadata": {},
     "output_type": "execute_result"
    }
   ],
   "source": [
    "sort_keys=sorted(dict.keys())\n",
    "sort_keys"
   ]
  },
  {
   "cell_type": "code",
   "execution_count": 18,
   "metadata": {},
   "outputs": [
    {
     "name": "stdout",
     "output_type": "stream",
     "text": [
      "<class 'set'>\n",
      "{1, 2, 3, 4, 5, 6, 7, 8}\n",
      "{4}\n",
      "{1, 2, 3, 5, 6, 7, 8}\n",
      "False\n",
      "frozenset({1, 2, 3, 4, 5, 6, 7, 8})\n",
      "frozenset({1, 2, 3, 4, 5})\n",
      "frozenset()\n"
     ]
    }
   ],
   "source": [
    "#set in unordered unique sequence\n",
    "data1={1,2,4,3,4}\n",
    "data2={5,6,7,4,8}\n",
    "print(type(data1))\n",
    "print(data1|data2)#pipe operator Union of every element in which unique is printed once\n",
    "print(data1&data2)#print only common part\n",
    "print(data1^data2)#carrot which removes common part in both the data\n",
    "print(data1<data2)# to find Subset\n",
    "d=frozenset([1,2,3,4,5])\n",
    "d1=frozenset([6,6,7,8,8])\n",
    "print(d.union(d1))\n",
    "print(d.difference(d1))\n",
    "print(d.intersection(d1))"
   ]
  },
  {
   "cell_type": "code",
   "execution_count": 19,
   "metadata": {},
   "outputs": [],
   "source": [
    "#operators\n",
    "#symols:+,-,*,/,//,%,**:\n",
    "#/ is used to divide float\n",
    "#// is used for floor division\n",
    "#** is used for making first value base and other its power\n",
    "#% modulus is used for remainder\n"
   ]
  },
  {
   "cell_type": "code",
   "execution_count": 20,
   "metadata": {},
   "outputs": [],
   "source": [
    "#symbols(comparative)\n",
    "#>:greater than\n",
    "#<:lesser than\n",
    "#>=:greater than equal to\n",
    "#<=:less than equal to\n",
    "#==:comparision\n",
    "#!=:not equal to\n"
   ]
  },
  {
   "cell_type": "code",
   "execution_count": 30,
   "metadata": {},
   "outputs": [
    {
     "name": "stdout",
     "output_type": "stream",
     "text": [
      "False\n",
      "True\n",
      "True\n"
     ]
    }
   ],
   "source": [
    "#logical Operators\n",
    "#1.and\n",
    "#2.or\n",
    "#3.not\n",
    "a = True\n",
    "b = False\n",
    "print(a and b)\n",
    "print(a or b)\n",
    "print( not b)\n",
    "#################################\n",
    "#Identity Operators\n",
    "#1. is\n",
    "#2. is not"
   ]
  },
  {
   "cell_type": "code",
   "execution_count": 27,
   "metadata": {},
   "outputs": [
    {
     "name": "stdout",
     "output_type": "stream",
     "text": [
      "79\n",
      "stris\n",
      "[1, 3, 4, 1, 5, 6]\n"
     ]
    }
   ],
   "source": [
    "#############\n",
    "#Membership operator:\n",
    "#1. in\n",
    "#2. not in\n",
    "#phone Directory\n",
    "ph_data={\"Rahul\":8754129654,\"Ritik\":7042881296,\"Dev\":7845127845}\n",
    "#OPERATOR OVERLOADING\n",
    "#<+>\n",
    "print(23+56)#Act a addition\n",
    "print(\"str\"+\"is\")#Act as concat Function\n",
    "print([1,3,4]+[1,5,6])#Act as Merge Function"
   ]
  },
  {
   "cell_type": "code",
   "execution_count": 29,
   "metadata": {},
   "outputs": [
    {
     "name": "stdout",
     "output_type": "stream",
     "text": [
      "(1, 1, 1, 1, 1)\n",
      "strstrstrstrstr\n",
      "5\n"
     ]
    }
   ],
   "source": [
    "print((1,)*5)\n",
    "print(\"str\"*5)\n",
    "print(1*5)"
   ]
  },
  {
   "cell_type": "code",
   "execution_count": 31,
   "metadata": {},
   "outputs": [
    {
     "name": "stdout",
     "output_type": "stream",
     "text": [
      "['php', 'python', 'ML', 'RPA', 'c++', 'c', 'AI', 'c++']\n"
     ]
    }
   ],
   "source": [
    "print(data)"
   ]
  },
  {
   "cell_type": "code",
   "execution_count": null,
   "metadata": {},
   "outputs": [],
   "source": []
  }
 ],
 "metadata": {
  "kernelspec": {
   "display_name": "Python 3",
   "language": "python",
   "name": "python3"
  },
  "language_info": {
   "codemirror_mode": {
    "name": "ipython",
    "version": 3
   },
   "file_extension": ".py",
   "mimetype": "text/x-python",
   "name": "python",
   "nbconvert_exporter": "python",
   "pygments_lexer": "ipython3",
   "version": "3.8.3"
  }
 },
 "nbformat": 4,
 "nbformat_minor": 2
}
